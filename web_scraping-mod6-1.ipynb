{
 "cells": [
  {
   "cell_type": "markdown",
   "metadata": {},
   "source": [
    "# Fetching Content from the Web\n",
    "\n",
    "## When you have no API... That's annoying!\n",
    "\n",
    "Sometimes we need to try to access data on a webpage that does not have a helpful API that bundles and returns our data in a usable manner.  When that happens, we are left with no choice but to resort to web scraping, that is downloading the actual webpage (or parts of the webpage) and manipulating the text or elements of the HTML to obtain the information we want.\n",
    "\n",
    "## Tools to install:\n",
    "\n",
    "Use either `conda` or `pip` to install the following packages (e.g. `pip install beautifulsoup4`) depending on your environment:\n",
    "\n",
    "* `beautifulsoup4`\n",
    "* `html5lib` (optional parser - can use the built-in 'html.parser' instead)\n",
    "\n",
    "We will deal with each of these tools in turn.  BS4 is a package that allows you to fully read and do horrible horrible things to the DOM of a webpage (it's an XML parser that builds a parse tree for you to play with).  Boilerpipe is a python wrapper to a popular java library that can streamline some of the process of extracting parts of a webpage.  Feedparser lets you get RSS and Atom feeds (remember those?)\n",
    "\n",
    "Many examples are motivated from the content at https://github.com/mikhailklassen/Mining-the-Social-Web-3rd-Edition/blob/master/notebooks/Chapter%206%20-%20Mining%20Web%20Pages.ipynb\n",
    "\n",
    "## Getting page text with `requests` and `BeautifulSoup4`\n",
    "\n",
    "A majority of the web does not follow a specific standard (RSS/ATOM Feeds, etc), or the data we want is in a particularly odd format.  For this we need more flexible tools to allow us to obtain a full web page and extract meaning from it.  For this we will use the `requests` module and `beautifulsoup` to pull our information."
   ]
  },
  {
   "cell_type": "markdown",
   "metadata": {},
   "source": [
    "# Jarred Gastreich, Module 6\n",
    "Web Scraping"
   ]
  },
  {
   "cell_type": "code",
   "execution_count": 6,
   "metadata": {},
   "outputs": [
    {
     "name": "stdout",
     "output_type": "stream",
     "text": [
      "Collecting spacy\n",
      "  Using cached spacy-3.8.7-cp313-cp313-win_amd64.whl.metadata (28 kB)\n",
      "Collecting spacy-legacy<3.1.0,>=3.0.11 (from spacy)\n",
      "  Using cached spacy_legacy-3.0.12-py2.py3-none-any.whl.metadata (2.8 kB)\n",
      "Collecting spacy-loggers<2.0.0,>=1.0.0 (from spacy)\n",
      "  Using cached spacy_loggers-1.0.5-py3-none-any.whl.metadata (23 kB)\n",
      "Collecting murmurhash<1.1.0,>=0.28.0 (from spacy)\n",
      "  Using cached murmurhash-1.0.13-cp313-cp313-win_amd64.whl.metadata (2.2 kB)\n",
      "Collecting cymem<2.1.0,>=2.0.2 (from spacy)\n",
      "  Using cached cymem-2.0.11-cp313-cp313-win_amd64.whl.metadata (8.8 kB)\n",
      "Collecting preshed<3.1.0,>=3.0.2 (from spacy)\n",
      "  Using cached preshed-3.0.10-cp313-cp313-win_amd64.whl.metadata (2.5 kB)\n",
      "Collecting thinc<8.4.0,>=8.3.4 (from spacy)\n",
      "  Using cached thinc-8.3.6-cp313-cp313-win_amd64.whl.metadata (15 kB)\n",
      "Collecting wasabi<1.2.0,>=0.9.1 (from spacy)\n",
      "  Using cached wasabi-1.1.3-py3-none-any.whl.metadata (28 kB)\n",
      "Collecting srsly<3.0.0,>=2.4.3 (from spacy)\n",
      "  Using cached srsly-2.5.1-cp313-cp313-win_amd64.whl.metadata (20 kB)\n",
      "Collecting catalogue<2.1.0,>=2.0.6 (from spacy)\n",
      "  Using cached catalogue-2.0.10-py3-none-any.whl.metadata (14 kB)\n",
      "Collecting weasel<0.5.0,>=0.1.0 (from spacy)\n",
      "  Using cached weasel-0.4.1-py3-none-any.whl.metadata (4.6 kB)\n",
      "Collecting typer<1.0.0,>=0.3.0 (from spacy)\n",
      "  Using cached typer-0.16.0-py3-none-any.whl.metadata (15 kB)\n",
      "Collecting tqdm<5.0.0,>=4.38.0 (from spacy)\n",
      "  Using cached tqdm-4.67.1-py3-none-any.whl.metadata (57 kB)\n",
      "Requirement already satisfied: numpy>=1.19.0 in c:\\users\\jarre\\appdata\\local\\programs\\python\\python313\\lib\\site-packages (from spacy) (2.2.6)\n",
      "Requirement already satisfied: requests<3.0.0,>=2.13.0 in c:\\users\\jarre\\appdata\\local\\programs\\python\\python313\\lib\\site-packages (from spacy) (2.32.3)\n",
      "Collecting pydantic!=1.8,!=1.8.1,<3.0.0,>=1.7.4 (from spacy)\n",
      "  Using cached pydantic-2.11.7-py3-none-any.whl.metadata (67 kB)\n",
      "Requirement already satisfied: jinja2 in c:\\users\\jarre\\appdata\\local\\programs\\python\\python313\\lib\\site-packages (from spacy) (3.1.6)\n",
      "Requirement already satisfied: setuptools in c:\\users\\jarre\\appdata\\local\\programs\\python\\python313\\lib\\site-packages (from spacy) (80.9.0)\n",
      "Requirement already satisfied: packaging>=20.0 in c:\\users\\jarre\\appdata\\local\\programs\\python\\python313\\lib\\site-packages (from spacy) (25.0)\n",
      "Collecting langcodes<4.0.0,>=3.2.0 (from spacy)\n",
      "  Using cached langcodes-3.5.0-py3-none-any.whl.metadata (29 kB)\n",
      "Collecting language-data>=1.2 (from langcodes<4.0.0,>=3.2.0->spacy)\n",
      "  Using cached language_data-1.3.0-py3-none-any.whl.metadata (4.3 kB)\n",
      "Collecting annotated-types>=0.6.0 (from pydantic!=1.8,!=1.8.1,<3.0.0,>=1.7.4->spacy)\n",
      "  Using cached annotated_types-0.7.0-py3-none-any.whl.metadata (15 kB)\n",
      "Collecting pydantic-core==2.33.2 (from pydantic!=1.8,!=1.8.1,<3.0.0,>=1.7.4->spacy)\n",
      "  Using cached pydantic_core-2.33.2-cp313-cp313-win_amd64.whl.metadata (6.9 kB)\n",
      "Requirement already satisfied: typing-extensions>=4.12.2 in c:\\users\\jarre\\appdata\\local\\programs\\python\\python313\\lib\\site-packages (from pydantic!=1.8,!=1.8.1,<3.0.0,>=1.7.4->spacy) (4.14.0)\n",
      "Collecting typing-inspection>=0.4.0 (from pydantic!=1.8,!=1.8.1,<3.0.0,>=1.7.4->spacy)\n",
      "  Using cached typing_inspection-0.4.1-py3-none-any.whl.metadata (2.6 kB)\n",
      "Requirement already satisfied: charset-normalizer<4,>=2 in c:\\users\\jarre\\appdata\\local\\programs\\python\\python313\\lib\\site-packages (from requests<3.0.0,>=2.13.0->spacy) (3.4.2)\n",
      "Requirement already satisfied: idna<4,>=2.5 in c:\\users\\jarre\\appdata\\local\\programs\\python\\python313\\lib\\site-packages (from requests<3.0.0,>=2.13.0->spacy) (3.10)\n",
      "Requirement already satisfied: urllib3<3,>=1.21.1 in c:\\users\\jarre\\appdata\\local\\programs\\python\\python313\\lib\\site-packages (from requests<3.0.0,>=2.13.0->spacy) (2.4.0)\n",
      "Requirement already satisfied: certifi>=2017.4.17 in c:\\users\\jarre\\appdata\\local\\programs\\python\\python313\\lib\\site-packages (from requests<3.0.0,>=2.13.0->spacy) (2025.4.26)\n",
      "Collecting blis<1.4.0,>=1.3.0 (from thinc<8.4.0,>=8.3.4->spacy)\n",
      "  Using cached blis-1.3.0-cp313-cp313-win_amd64.whl.metadata (7.6 kB)\n",
      "Collecting confection<1.0.0,>=0.0.1 (from thinc<8.4.0,>=8.3.4->spacy)\n",
      "  Using cached confection-0.1.5-py3-none-any.whl.metadata (19 kB)\n",
      "Requirement already satisfied: colorama in c:\\users\\jarre\\appdata\\local\\programs\\python\\python313\\lib\\site-packages (from tqdm<5.0.0,>=4.38.0->spacy) (0.4.6)\n",
      "Collecting click>=8.0.0 (from typer<1.0.0,>=0.3.0->spacy)\n",
      "  Using cached click-8.2.1-py3-none-any.whl.metadata (2.5 kB)\n",
      "Collecting shellingham>=1.3.0 (from typer<1.0.0,>=0.3.0->spacy)\n",
      "  Using cached shellingham-1.5.4-py2.py3-none-any.whl.metadata (3.5 kB)\n",
      "Collecting rich>=10.11.0 (from typer<1.0.0,>=0.3.0->spacy)\n",
      "  Using cached rich-14.1.0-py3-none-any.whl.metadata (18 kB)\n",
      "Collecting cloudpathlib<1.0.0,>=0.7.0 (from weasel<0.5.0,>=0.1.0->spacy)\n",
      "  Using cached cloudpathlib-0.21.1-py3-none-any.whl.metadata (14 kB)\n",
      "Collecting smart-open<8.0.0,>=5.2.1 (from weasel<0.5.0,>=0.1.0->spacy)\n",
      "  Using cached smart_open-7.3.0.post1-py3-none-any.whl.metadata (24 kB)\n",
      "Collecting wrapt (from smart-open<8.0.0,>=5.2.1->weasel<0.5.0,>=0.1.0->spacy)\n",
      "  Using cached wrapt-1.17.2-cp313-cp313-win_amd64.whl.metadata (6.5 kB)\n",
      "Collecting marisa-trie>=1.1.0 (from language-data>=1.2->langcodes<4.0.0,>=3.2.0->spacy)\n",
      "  Using cached marisa_trie-1.2.1-cp313-cp313-win_amd64.whl.metadata (9.3 kB)\n",
      "Collecting markdown-it-py>=2.2.0 (from rich>=10.11.0->typer<1.0.0,>=0.3.0->spacy)\n",
      "  Using cached markdown_it_py-3.0.0-py3-none-any.whl.metadata (6.9 kB)\n",
      "Requirement already satisfied: pygments<3.0.0,>=2.13.0 in c:\\users\\jarre\\appdata\\local\\programs\\python\\python313\\lib\\site-packages (from rich>=10.11.0->typer<1.0.0,>=0.3.0->spacy) (2.19.1)\n",
      "Collecting mdurl~=0.1 (from markdown-it-py>=2.2.0->rich>=10.11.0->typer<1.0.0,>=0.3.0->spacy)\n",
      "  Using cached mdurl-0.1.2-py3-none-any.whl.metadata (1.6 kB)\n",
      "Requirement already satisfied: MarkupSafe>=2.0 in c:\\users\\jarre\\appdata\\local\\programs\\python\\python313\\lib\\site-packages (from jinja2->spacy) (3.0.2)\n",
      "Using cached spacy-3.8.7-cp313-cp313-win_amd64.whl (13.9 MB)\n",
      "Using cached catalogue-2.0.10-py3-none-any.whl (17 kB)\n",
      "Using cached cymem-2.0.11-cp313-cp313-win_amd64.whl (39 kB)\n",
      "Using cached langcodes-3.5.0-py3-none-any.whl (182 kB)\n",
      "Using cached murmurhash-1.0.13-cp313-cp313-win_amd64.whl (24 kB)\n",
      "Using cached preshed-3.0.10-cp313-cp313-win_amd64.whl (115 kB)\n",
      "Using cached pydantic-2.11.7-py3-none-any.whl (444 kB)\n",
      "Using cached pydantic_core-2.33.2-cp313-cp313-win_amd64.whl (2.0 MB)\n",
      "Using cached spacy_legacy-3.0.12-py2.py3-none-any.whl (29 kB)\n",
      "Using cached spacy_loggers-1.0.5-py3-none-any.whl (22 kB)\n",
      "Using cached srsly-2.5.1-cp313-cp313-win_amd64.whl (630 kB)\n",
      "Using cached thinc-8.3.6-cp313-cp313-win_amd64.whl (1.7 MB)\n",
      "Using cached blis-1.3.0-cp313-cp313-win_amd64.whl (6.3 MB)\n",
      "Using cached confection-0.1.5-py3-none-any.whl (35 kB)\n",
      "Using cached tqdm-4.67.1-py3-none-any.whl (78 kB)\n",
      "Using cached typer-0.16.0-py3-none-any.whl (46 kB)\n",
      "Using cached wasabi-1.1.3-py3-none-any.whl (27 kB)\n",
      "Using cached weasel-0.4.1-py3-none-any.whl (50 kB)\n",
      "Using cached cloudpathlib-0.21.1-py3-none-any.whl (52 kB)\n",
      "Using cached smart_open-7.3.0.post1-py3-none-any.whl (61 kB)\n",
      "Using cached annotated_types-0.7.0-py3-none-any.whl (13 kB)\n",
      "Using cached click-8.2.1-py3-none-any.whl (102 kB)\n",
      "Using cached language_data-1.3.0-py3-none-any.whl (5.4 MB)\n",
      "Using cached marisa_trie-1.2.1-cp313-cp313-win_amd64.whl (149 kB)\n",
      "Using cached rich-14.1.0-py3-none-any.whl (243 kB)\n",
      "Using cached markdown_it_py-3.0.0-py3-none-any.whl (87 kB)\n",
      "Using cached mdurl-0.1.2-py3-none-any.whl (10.0 kB)\n",
      "Using cached shellingham-1.5.4-py2.py3-none-any.whl (9.8 kB)\n",
      "Using cached typing_inspection-0.4.1-py3-none-any.whl (14 kB)\n",
      "Using cached wrapt-1.17.2-cp313-cp313-win_amd64.whl (38 kB)\n",
      "Installing collected packages: cymem, wrapt, wasabi, typing-inspection, tqdm, spacy-loggers, spacy-legacy, shellingham, pydantic-core, murmurhash, mdurl, marisa-trie, cloudpathlib, click, catalogue, blis, annotated-types, srsly, smart-open, pydantic, preshed, markdown-it-py, language-data, rich, langcodes, confection, typer, thinc, weasel, spacy\n",
      "\n",
      "   - --------------------------------------  1/30 [wrapt]\n",
      "   -- -------------------------------------  2/30 [wasabi]\n",
      "   ----- ----------------------------------  4/30 [tqdm]\n",
      "   ----- ----------------------------------  4/30 [tqdm]\n",
      "   ----- ----------------------------------  4/30 [tqdm]\n",
      "   ------ ---------------------------------  5/30 [spacy-loggers]\n",
      "   ------ ---------------------------------  5/30 [spacy-loggers]\n",
      "   -------- -------------------------------  6/30 [spacy-legacy]\n",
      "   ---------- -----------------------------  8/30 [pydantic-core]\n",
      "   ------------- -------------------------- 10/30 [mdurl]\n",
      "   ---------------- ----------------------- 12/30 [cloudpathlib]\n",
      "   ----------------- ---------------------- 13/30 [click]\n",
      "   ----------------- ---------------------- 13/30 [click]\n",
      "   ----------------- ---------------------- 13/30 [click]\n",
      "   ------------------ --------------------- 14/30 [catalogue]\n",
      "   -------------------- ------------------- 15/30 [blis]\n",
      "   ---------------------- ----------------- 17/30 [srsly]\n",
      "   ---------------------- ----------------- 17/30 [srsly]\n",
      "   ---------------------- ----------------- 17/30 [srsly]\n",
      "   ---------------------- ----------------- 17/30 [srsly]\n",
      "   ---------------------- ----------------- 17/30 [srsly]\n",
      "   ---------------------- ----------------- 17/30 [srsly]\n",
      "   ---------------------- ----------------- 17/30 [srsly]\n",
      "   ---------------------- ----------------- 17/30 [srsly]\n",
      "   ---------------------- ----------------- 17/30 [srsly]\n",
      "   ---------------------- ----------------- 17/30 [srsly]\n",
      "   ---------------------- ----------------- 17/30 [srsly]\n",
      "   ------------------------ --------------- 18/30 [smart-open]\n",
      "   ------------------------ --------------- 18/30 [smart-open]\n",
      "   ------------------------- -------------- 19/30 [pydantic]\n",
      "   ------------------------- -------------- 19/30 [pydantic]\n",
      "   ------------------------- -------------- 19/30 [pydantic]\n",
      "   ------------------------- -------------- 19/30 [pydantic]\n",
      "   ------------------------- -------------- 19/30 [pydantic]\n",
      "   ------------------------- -------------- 19/30 [pydantic]\n",
      "   ------------------------- -------------- 19/30 [pydantic]\n",
      "   ------------------------- -------------- 19/30 [pydantic]\n",
      "   ------------------------- -------------- 19/30 [pydantic]\n",
      "   ------------------------- -------------- 19/30 [pydantic]\n",
      "   ------------------------- -------------- 19/30 [pydantic]\n",
      "   ------------------------- -------------- 19/30 [pydantic]\n",
      "   ------------------------- -------------- 19/30 [pydantic]\n",
      "   ---------------------------- ----------- 21/30 [markdown-it-py]\n",
      "   ---------------------------- ----------- 21/30 [markdown-it-py]\n",
      "   ---------------------------- ----------- 21/30 [markdown-it-py]\n",
      "   ---------------------------- ----------- 21/30 [markdown-it-py]\n",
      "   ---------------------------- ----------- 21/30 [markdown-it-py]\n",
      "   ----------------------------- ---------- 22/30 [language-data]\n",
      "   ----------------------------- ---------- 22/30 [language-data]\n",
      "   ----------------------------- ---------- 22/30 [language-data]\n",
      "   ----------------------------- ---------- 22/30 [language-data]\n",
      "   ----------------------------- ---------- 22/30 [language-data]\n",
      "   ----------------------------- ---------- 22/30 [language-data]\n",
      "   ----------------------------- ---------- 22/30 [language-data]\n",
      "   ----------------------------- ---------- 22/30 [language-data]\n",
      "   ------------------------------ --------- 23/30 [rich]\n",
      "   ------------------------------ --------- 23/30 [rich]\n",
      "   ------------------------------ --------- 23/30 [rich]\n",
      "   ------------------------------ --------- 23/30 [rich]\n",
      "   ------------------------------ --------- 23/30 [rich]\n",
      "   ------------------------------ --------- 23/30 [rich]\n",
      "   ------------------------------ --------- 23/30 [rich]\n",
      "   ------------------------------ --------- 23/30 [rich]\n",
      "   -------------------------------- ------- 24/30 [langcodes]\n",
      "   -------------------------------- ------- 24/30 [langcodes]\n",
      "   --------------------------------- ------ 25/30 [confection]\n",
      "   ---------------------------------- ----- 26/30 [typer]\n",
      "   ---------------------------------- ----- 26/30 [typer]\n",
      "   ------------------------------------ --- 27/30 [thinc]\n",
      "   ------------------------------------ --- 27/30 [thinc]\n",
      "   ------------------------------------ --- 27/30 [thinc]\n",
      "   ------------------------------------ --- 27/30 [thinc]\n",
      "   ------------------------------------ --- 27/30 [thinc]\n",
      "   ------------------------------------ --- 27/30 [thinc]\n",
      "   ------------------------------------ --- 27/30 [thinc]\n",
      "   ------------------------------------ --- 27/30 [thinc]\n",
      "   ------------------------------------ --- 27/30 [thinc]\n",
      "   ------------------------------------ --- 27/30 [thinc]\n",
      "   ------------------------------------ --- 27/30 [thinc]\n",
      "   ------------------------------------ --- 27/30 [thinc]\n",
      "   ------------------------------------ --- 27/30 [thinc]\n",
      "   ------------------------------------- -- 28/30 [weasel]\n",
      "   ------------------------------------- -- 28/30 [weasel]\n",
      "   ------------------------------------- -- 28/30 [weasel]\n",
      "   ------------------------------------- -- 28/30 [weasel]\n",
      "   -------------------------------------- - 29/30 [spacy]\n",
      "   -------------------------------------- - 29/30 [spacy]\n",
      "   -------------------------------------- - 29/30 [spacy]\n",
      "   -------------------------------------- - 29/30 [spacy]\n",
      "   -------------------------------------- - 29/30 [spacy]\n",
      "   -------------------------------------- - 29/30 [spacy]\n",
      "   -------------------------------------- - 29/30 [spacy]\n",
      "   -------------------------------------- - 29/30 [spacy]\n",
      "   -------------------------------------- - 29/30 [spacy]\n",
      "   -------------------------------------- - 29/30 [spacy]\n",
      "   -------------------------------------- - 29/30 [spacy]\n",
      "   -------------------------------------- - 29/30 [spacy]\n",
      "   -------------------------------------- - 29/30 [spacy]\n",
      "   -------------------------------------- - 29/30 [spacy]\n",
      "   -------------------------------------- - 29/30 [spacy]\n",
      "   -------------------------------------- - 29/30 [spacy]\n",
      "   -------------------------------------- - 29/30 [spacy]\n",
      "   -------------------------------------- - 29/30 [spacy]\n",
      "   -------------------------------------- - 29/30 [spacy]\n",
      "   -------------------------------------- - 29/30 [spacy]\n",
      "   -------------------------------------- - 29/30 [spacy]\n",
      "   -------------------------------------- - 29/30 [spacy]\n",
      "   -------------------------------------- - 29/30 [spacy]\n",
      "   -------------------------------------- - 29/30 [spacy]\n",
      "   -------------------------------------- - 29/30 [spacy]\n",
      "   -------------------------------------- - 29/30 [spacy]\n",
      "   -------------------------------------- - 29/30 [spacy]\n",
      "   -------------------------------------- - 29/30 [spacy]\n",
      "   -------------------------------------- - 29/30 [spacy]\n",
      "   -------------------------------------- - 29/30 [spacy]\n",
      "   -------------------------------------- - 29/30 [spacy]\n",
      "   -------------------------------------- - 29/30 [spacy]\n",
      "   -------------------------------------- - 29/30 [spacy]\n",
      "   -------------------------------------- - 29/30 [spacy]\n",
      "   -------------------------------------- - 29/30 [spacy]\n",
      "   -------------------------------------- - 29/30 [spacy]\n",
      "   -------------------------------------- - 29/30 [spacy]\n",
      "   -------------------------------------- - 29/30 [spacy]\n",
      "   -------------------------------------- - 29/30 [spacy]\n",
      "   -------------------------------------- - 29/30 [spacy]\n",
      "   -------------------------------------- - 29/30 [spacy]\n",
      "   -------------------------------------- - 29/30 [spacy]\n",
      "   -------------------------------------- - 29/30 [spacy]\n",
      "   -------------------------------------- - 29/30 [spacy]\n",
      "   -------------------------------------- - 29/30 [spacy]\n",
      "   -------------------------------------- - 29/30 [spacy]\n",
      "   -------------------------------------- - 29/30 [spacy]\n",
      "   -------------------------------------- - 29/30 [spacy]\n",
      "   -------------------------------------- - 29/30 [spacy]\n",
      "   -------------------------------------- - 29/30 [spacy]\n",
      "   -------------------------------------- - 29/30 [spacy]\n",
      "   -------------------------------------- - 29/30 [spacy]\n",
      "   -------------------------------------- - 29/30 [spacy]\n",
      "   -------------------------------------- - 29/30 [spacy]\n",
      "   -------------------------------------- - 29/30 [spacy]\n",
      "   -------------------------------------- - 29/30 [spacy]\n",
      "   -------------------------------------- - 29/30 [spacy]\n",
      "   -------------------------------------- - 29/30 [spacy]\n",
      "   -------------------------------------- - 29/30 [spacy]\n",
      "   -------------------------------------- - 29/30 [spacy]\n",
      "   -------------------------------------- - 29/30 [spacy]\n",
      "   -------------------------------------- - 29/30 [spacy]\n",
      "   -------------------------------------- - 29/30 [spacy]\n",
      "   -------------------------------------- - 29/30 [spacy]\n",
      "   ---------------------------------------- 30/30 [spacy]\n",
      "\n",
      "Successfully installed annotated-types-0.7.0 blis-1.3.0 catalogue-2.0.10 click-8.2.1 cloudpathlib-0.21.1 confection-0.1.5 cymem-2.0.11 langcodes-3.5.0 language-data-1.3.0 marisa-trie-1.2.1 markdown-it-py-3.0.0 mdurl-0.1.2 murmurhash-1.0.13 preshed-3.0.10 pydantic-2.11.7 pydantic-core-2.33.2 rich-14.1.0 shellingham-1.5.4 smart-open-7.3.0.post1 spacy-3.8.7 spacy-legacy-3.0.12 spacy-loggers-1.0.5 srsly-2.5.1 thinc-8.3.6 tqdm-4.67.1 typer-0.16.0 typing-inspection-0.4.1 wasabi-1.1.3 weasel-0.4.1 wrapt-1.17.2\n",
      "Note: you may need to restart the kernel to use updated packages.\n",
      "Collecting spacytextblob\n",
      "  Using cached spacytextblob-5.0.0-py3-none-any.whl.metadata (4.8 kB)\n",
      "Requirement already satisfied: spacy>=3.0.0 in c:\\users\\jarre\\appdata\\local\\programs\\python\\python313\\lib\\site-packages (from spacytextblob) (3.8.7)\n",
      "Collecting textblob>=0.18.0.post0 (from spacytextblob)\n",
      "  Using cached textblob-0.19.0-py3-none-any.whl.metadata (4.4 kB)\n",
      "Requirement already satisfied: spacy-legacy<3.1.0,>=3.0.11 in c:\\users\\jarre\\appdata\\local\\programs\\python\\python313\\lib\\site-packages (from spacy>=3.0.0->spacytextblob) (3.0.12)\n",
      "Requirement already satisfied: spacy-loggers<2.0.0,>=1.0.0 in c:\\users\\jarre\\appdata\\local\\programs\\python\\python313\\lib\\site-packages (from spacy>=3.0.0->spacytextblob) (1.0.5)\n",
      "Requirement already satisfied: murmurhash<1.1.0,>=0.28.0 in c:\\users\\jarre\\appdata\\local\\programs\\python\\python313\\lib\\site-packages (from spacy>=3.0.0->spacytextblob) (1.0.13)\n",
      "Requirement already satisfied: cymem<2.1.0,>=2.0.2 in c:\\users\\jarre\\appdata\\local\\programs\\python\\python313\\lib\\site-packages (from spacy>=3.0.0->spacytextblob) (2.0.11)\n",
      "Requirement already satisfied: preshed<3.1.0,>=3.0.2 in c:\\users\\jarre\\appdata\\local\\programs\\python\\python313\\lib\\site-packages (from spacy>=3.0.0->spacytextblob) (3.0.10)\n",
      "Requirement already satisfied: thinc<8.4.0,>=8.3.4 in c:\\users\\jarre\\appdata\\local\\programs\\python\\python313\\lib\\site-packages (from spacy>=3.0.0->spacytextblob) (8.3.6)\n",
      "Requirement already satisfied: wasabi<1.2.0,>=0.9.1 in c:\\users\\jarre\\appdata\\local\\programs\\python\\python313\\lib\\site-packages (from spacy>=3.0.0->spacytextblob) (1.1.3)\n",
      "Requirement already satisfied: srsly<3.0.0,>=2.4.3 in c:\\users\\jarre\\appdata\\local\\programs\\python\\python313\\lib\\site-packages (from spacy>=3.0.0->spacytextblob) (2.5.1)\n",
      "Requirement already satisfied: catalogue<2.1.0,>=2.0.6 in c:\\users\\jarre\\appdata\\local\\programs\\python\\python313\\lib\\site-packages (from spacy>=3.0.0->spacytextblob) (2.0.10)\n",
      "Requirement already satisfied: weasel<0.5.0,>=0.1.0 in c:\\users\\jarre\\appdata\\local\\programs\\python\\python313\\lib\\site-packages (from spacy>=3.0.0->spacytextblob) (0.4.1)\n",
      "Requirement already satisfied: typer<1.0.0,>=0.3.0 in c:\\users\\jarre\\appdata\\local\\programs\\python\\python313\\lib\\site-packages (from spacy>=3.0.0->spacytextblob) (0.16.0)\n",
      "Requirement already satisfied: tqdm<5.0.0,>=4.38.0 in c:\\users\\jarre\\appdata\\local\\programs\\python\\python313\\lib\\site-packages (from spacy>=3.0.0->spacytextblob) (4.67.1)\n",
      "Requirement already satisfied: numpy>=1.19.0 in c:\\users\\jarre\\appdata\\local\\programs\\python\\python313\\lib\\site-packages (from spacy>=3.0.0->spacytextblob) (2.2.6)\n",
      "Requirement already satisfied: requests<3.0.0,>=2.13.0 in c:\\users\\jarre\\appdata\\local\\programs\\python\\python313\\lib\\site-packages (from spacy>=3.0.0->spacytextblob) (2.32.3)\n",
      "Requirement already satisfied: pydantic!=1.8,!=1.8.1,<3.0.0,>=1.7.4 in c:\\users\\jarre\\appdata\\local\\programs\\python\\python313\\lib\\site-packages (from spacy>=3.0.0->spacytextblob) (2.11.7)\n",
      "Requirement already satisfied: jinja2 in c:\\users\\jarre\\appdata\\local\\programs\\python\\python313\\lib\\site-packages (from spacy>=3.0.0->spacytextblob) (3.1.6)\n",
      "Requirement already satisfied: setuptools in c:\\users\\jarre\\appdata\\local\\programs\\python\\python313\\lib\\site-packages (from spacy>=3.0.0->spacytextblob) (80.9.0)\n",
      "Requirement already satisfied: packaging>=20.0 in c:\\users\\jarre\\appdata\\local\\programs\\python\\python313\\lib\\site-packages (from spacy>=3.0.0->spacytextblob) (25.0)\n",
      "Requirement already satisfied: langcodes<4.0.0,>=3.2.0 in c:\\users\\jarre\\appdata\\local\\programs\\python\\python313\\lib\\site-packages (from spacy>=3.0.0->spacytextblob) (3.5.0)\n",
      "Requirement already satisfied: language-data>=1.2 in c:\\users\\jarre\\appdata\\local\\programs\\python\\python313\\lib\\site-packages (from langcodes<4.0.0,>=3.2.0->spacy>=3.0.0->spacytextblob) (1.3.0)\n",
      "Requirement already satisfied: annotated-types>=0.6.0 in c:\\users\\jarre\\appdata\\local\\programs\\python\\python313\\lib\\site-packages (from pydantic!=1.8,!=1.8.1,<3.0.0,>=1.7.4->spacy>=3.0.0->spacytextblob) (0.7.0)\n",
      "Requirement already satisfied: pydantic-core==2.33.2 in c:\\users\\jarre\\appdata\\local\\programs\\python\\python313\\lib\\site-packages (from pydantic!=1.8,!=1.8.1,<3.0.0,>=1.7.4->spacy>=3.0.0->spacytextblob) (2.33.2)\n",
      "Requirement already satisfied: typing-extensions>=4.12.2 in c:\\users\\jarre\\appdata\\local\\programs\\python\\python313\\lib\\site-packages (from pydantic!=1.8,!=1.8.1,<3.0.0,>=1.7.4->spacy>=3.0.0->spacytextblob) (4.14.0)\n",
      "Requirement already satisfied: typing-inspection>=0.4.0 in c:\\users\\jarre\\appdata\\local\\programs\\python\\python313\\lib\\site-packages (from pydantic!=1.8,!=1.8.1,<3.0.0,>=1.7.4->spacy>=3.0.0->spacytextblob) (0.4.1)\n",
      "Requirement already satisfied: charset-normalizer<4,>=2 in c:\\users\\jarre\\appdata\\local\\programs\\python\\python313\\lib\\site-packages (from requests<3.0.0,>=2.13.0->spacy>=3.0.0->spacytextblob) (3.4.2)\n",
      "Requirement already satisfied: idna<4,>=2.5 in c:\\users\\jarre\\appdata\\local\\programs\\python\\python313\\lib\\site-packages (from requests<3.0.0,>=2.13.0->spacy>=3.0.0->spacytextblob) (3.10)\n",
      "Requirement already satisfied: urllib3<3,>=1.21.1 in c:\\users\\jarre\\appdata\\local\\programs\\python\\python313\\lib\\site-packages (from requests<3.0.0,>=2.13.0->spacy>=3.0.0->spacytextblob) (2.4.0)\n",
      "Requirement already satisfied: certifi>=2017.4.17 in c:\\users\\jarre\\appdata\\local\\programs\\python\\python313\\lib\\site-packages (from requests<3.0.0,>=2.13.0->spacy>=3.0.0->spacytextblob) (2025.4.26)\n",
      "Requirement already satisfied: blis<1.4.0,>=1.3.0 in c:\\users\\jarre\\appdata\\local\\programs\\python\\python313\\lib\\site-packages (from thinc<8.4.0,>=8.3.4->spacy>=3.0.0->spacytextblob) (1.3.0)\n",
      "Requirement already satisfied: confection<1.0.0,>=0.0.1 in c:\\users\\jarre\\appdata\\local\\programs\\python\\python313\\lib\\site-packages (from thinc<8.4.0,>=8.3.4->spacy>=3.0.0->spacytextblob) (0.1.5)\n",
      "Requirement already satisfied: colorama in c:\\users\\jarre\\appdata\\local\\programs\\python\\python313\\lib\\site-packages (from tqdm<5.0.0,>=4.38.0->spacy>=3.0.0->spacytextblob) (0.4.6)\n",
      "Requirement already satisfied: click>=8.0.0 in c:\\users\\jarre\\appdata\\local\\programs\\python\\python313\\lib\\site-packages (from typer<1.0.0,>=0.3.0->spacy>=3.0.0->spacytextblob) (8.2.1)\n",
      "Requirement already satisfied: shellingham>=1.3.0 in c:\\users\\jarre\\appdata\\local\\programs\\python\\python313\\lib\\site-packages (from typer<1.0.0,>=0.3.0->spacy>=3.0.0->spacytextblob) (1.5.4)\n",
      "Requirement already satisfied: rich>=10.11.0 in c:\\users\\jarre\\appdata\\local\\programs\\python\\python313\\lib\\site-packages (from typer<1.0.0,>=0.3.0->spacy>=3.0.0->spacytextblob) (14.1.0)\n",
      "Requirement already satisfied: cloudpathlib<1.0.0,>=0.7.0 in c:\\users\\jarre\\appdata\\local\\programs\\python\\python313\\lib\\site-packages (from weasel<0.5.0,>=0.1.0->spacy>=3.0.0->spacytextblob) (0.21.1)\n",
      "Requirement already satisfied: smart-open<8.0.0,>=5.2.1 in c:\\users\\jarre\\appdata\\local\\programs\\python\\python313\\lib\\site-packages (from weasel<0.5.0,>=0.1.0->spacy>=3.0.0->spacytextblob) (7.3.0.post1)\n",
      "Requirement already satisfied: wrapt in c:\\users\\jarre\\appdata\\local\\programs\\python\\python313\\lib\\site-packages (from smart-open<8.0.0,>=5.2.1->weasel<0.5.0,>=0.1.0->spacy>=3.0.0->spacytextblob) (1.17.2)\n",
      "Requirement already satisfied: marisa-trie>=1.1.0 in c:\\users\\jarre\\appdata\\local\\programs\\python\\python313\\lib\\site-packages (from language-data>=1.2->langcodes<4.0.0,>=3.2.0->spacy>=3.0.0->spacytextblob) (1.2.1)\n",
      "Requirement already satisfied: markdown-it-py>=2.2.0 in c:\\users\\jarre\\appdata\\local\\programs\\python\\python313\\lib\\site-packages (from rich>=10.11.0->typer<1.0.0,>=0.3.0->spacy>=3.0.0->spacytextblob) (3.0.0)\n",
      "Requirement already satisfied: pygments<3.0.0,>=2.13.0 in c:\\users\\jarre\\appdata\\local\\programs\\python\\python313\\lib\\site-packages (from rich>=10.11.0->typer<1.0.0,>=0.3.0->spacy>=3.0.0->spacytextblob) (2.19.1)\n",
      "Requirement already satisfied: mdurl~=0.1 in c:\\users\\jarre\\appdata\\local\\programs\\python\\python313\\lib\\site-packages (from markdown-it-py>=2.2.0->rich>=10.11.0->typer<1.0.0,>=0.3.0->spacy>=3.0.0->spacytextblob) (0.1.2)\n",
      "Collecting nltk>=3.9 (from textblob>=0.18.0.post0->spacytextblob)\n",
      "  Using cached nltk-3.9.1-py3-none-any.whl.metadata (2.9 kB)\n",
      "Collecting joblib (from nltk>=3.9->textblob>=0.18.0.post0->spacytextblob)\n",
      "  Using cached joblib-1.5.1-py3-none-any.whl.metadata (5.6 kB)\n",
      "Collecting regex>=2021.8.3 (from nltk>=3.9->textblob>=0.18.0.post0->spacytextblob)\n",
      "  Using cached regex-2024.11.6-cp313-cp313-win_amd64.whl.metadata (41 kB)\n",
      "Requirement already satisfied: MarkupSafe>=2.0 in c:\\users\\jarre\\appdata\\local\\programs\\python\\python313\\lib\\site-packages (from jinja2->spacy>=3.0.0->spacytextblob) (3.0.2)\n",
      "Using cached spacytextblob-5.0.0-py3-none-any.whl (4.2 kB)\n",
      "Using cached textblob-0.19.0-py3-none-any.whl (624 kB)\n",
      "Using cached nltk-3.9.1-py3-none-any.whl (1.5 MB)\n",
      "Using cached regex-2024.11.6-cp313-cp313-win_amd64.whl (273 kB)\n",
      "Using cached joblib-1.5.1-py3-none-any.whl (307 kB)\n",
      "Installing collected packages: regex, joblib, nltk, textblob, spacytextblob\n",
      "\n",
      "   ---------------------------------------- 0/5 [regex]\n",
      "   -------- ------------------------------- 1/5 [joblib]\n",
      "   -------- ------------------------------- 1/5 [joblib]\n",
      "   -------- ------------------------------- 1/5 [joblib]\n",
      "   -------- ------------------------------- 1/5 [joblib]\n",
      "   -------- ------------------------------- 1/5 [joblib]\n",
      "   -------- ------------------------------- 1/5 [joblib]\n",
      "   -------- ------------------------------- 1/5 [joblib]\n",
      "   ---------------- ----------------------- 2/5 [nltk]\n",
      "   ---------------- ----------------------- 2/5 [nltk]\n",
      "   ---------------- ----------------------- 2/5 [nltk]\n",
      "   ---------------- ----------------------- 2/5 [nltk]\n",
      "   ---------------- ----------------------- 2/5 [nltk]\n",
      "   ---------------- ----------------------- 2/5 [nltk]\n",
      "   ---------------- ----------------------- 2/5 [nltk]\n",
      "   ---------------- ----------------------- 2/5 [nltk]\n",
      "   ---------------- ----------------------- 2/5 [nltk]\n",
      "   ---------------- ----------------------- 2/5 [nltk]\n",
      "   ---------------- ----------------------- 2/5 [nltk]\n",
      "   ---------------- ----------------------- 2/5 [nltk]\n",
      "   ---------------- ----------------------- 2/5 [nltk]\n",
      "   ---------------- ----------------------- 2/5 [nltk]\n",
      "   ---------------- ----------------------- 2/5 [nltk]\n",
      "   ---------------- ----------------------- 2/5 [nltk]\n",
      "   ---------------- ----------------------- 2/5 [nltk]\n",
      "   ---------------- ----------------------- 2/5 [nltk]\n",
      "   ---------------- ----------------------- 2/5 [nltk]\n",
      "   ---------------- ----------------------- 2/5 [nltk]\n",
      "   ---------------- ----------------------- 2/5 [nltk]\n",
      "   ---------------- ----------------------- 2/5 [nltk]\n",
      "   ---------------- ----------------------- 2/5 [nltk]\n",
      "   ---------------- ----------------------- 2/5 [nltk]\n",
      "   ---------------- ----------------------- 2/5 [nltk]\n",
      "   ---------------- ----------------------- 2/5 [nltk]\n",
      "   ---------------- ----------------------- 2/5 [nltk]\n",
      "   ---------------- ----------------------- 2/5 [nltk]\n",
      "   ---------------- ----------------------- 2/5 [nltk]\n",
      "   ---------------- ----------------------- 2/5 [nltk]\n",
      "   ---------------- ----------------------- 2/5 [nltk]\n",
      "   ---------------- ----------------------- 2/5 [nltk]\n",
      "   ---------------- ----------------------- 2/5 [nltk]\n",
      "   ---------------- ----------------------- 2/5 [nltk]\n",
      "   ---------------- ----------------------- 2/5 [nltk]\n",
      "   ---------------- ----------------------- 2/5 [nltk]\n",
      "   ---------------- ----------------------- 2/5 [nltk]\n",
      "   ---------------- ----------------------- 2/5 [nltk]\n",
      "   ---------------- ----------------------- 2/5 [nltk]\n",
      "   ---------------- ----------------------- 2/5 [nltk]\n",
      "   ---------------- ----------------------- 2/5 [nltk]\n",
      "   ---------------- ----------------------- 2/5 [nltk]\n",
      "   ---------------- ----------------------- 2/5 [nltk]\n",
      "   ---------------- ----------------------- 2/5 [nltk]\n",
      "   ---------------- ----------------------- 2/5 [nltk]\n",
      "   ---------------- ----------------------- 2/5 [nltk]\n",
      "   ---------------- ----------------------- 2/5 [nltk]\n",
      "   ------------------------ --------------- 3/5 [textblob]\n",
      "   ------------------------ --------------- 3/5 [textblob]\n",
      "   ---------------------------------------- 5/5 [spacytextblob]\n",
      "\n",
      "Successfully installed joblib-1.5.1 nltk-3.9.1 regex-2024.11.6 spacytextblob-5.0.0 textblob-0.19.0\n",
      "Note: you may need to restart the kernel to use updated packages.\n",
      "Package                   Version\n",
      "------------------------- --------------\n",
      "annotated-types           0.7.0\n",
      "anyio                     4.9.0\n",
      "argon2-cffi               23.1.0\n",
      "argon2-cffi-bindings      21.2.0\n",
      "arrow                     1.3.0\n",
      "asttokens                 3.0.0\n",
      "async-lru                 2.0.5\n",
      "attrs                     25.3.0\n",
      "babel                     2.17.0\n",
      "beautifulsoup4            4.13.4\n",
      "bleach                    6.2.0\n",
      "blis                      1.3.0\n",
      "catalogue                 2.0.10\n",
      "certifi                   2025.4.26\n",
      "cffi                      1.17.1\n",
      "charset-normalizer        3.4.2\n",
      "click                     8.2.1\n",
      "cloudpathlib              0.21.1\n",
      "colorama                  0.4.6\n",
      "comm                      0.2.2\n",
      "comtypes                  1.4.11\n",
      "confection                0.1.5\n",
      "contourpy                 1.3.2\n",
      "cycler                    0.12.1\n",
      "cymem                     2.0.11\n",
      "debugpy                   1.8.14\n",
      "decorator                 5.2.1\n",
      "defusedxml                0.7.1\n",
      "executing                 2.2.0\n",
      "fastjsonschema            2.21.1\n",
      "fonttools                 4.58.1\n",
      "fqdn                      1.5.1\n",
      "h11                       0.16.0\n",
      "httpcore                  1.0.9\n",
      "httpx                     0.28.1\n",
      "idna                      3.10\n",
      "ipykernel                 6.29.5\n",
      "ipython                   9.3.0\n",
      "ipython_pygments_lexers   1.1.1\n",
      "ipywidgets                8.1.7\n",
      "isoduration               20.11.0\n",
      "jedi                      0.19.2\n",
      "Jinja2                    3.1.6\n",
      "joblib                    1.5.1\n",
      "json5                     0.12.0\n",
      "jsonpointer               3.0.0\n",
      "jsonschema                4.24.0\n",
      "jsonschema-specifications 2025.4.1\n",
      "jupyter                   1.1.1\n",
      "jupyter_client            8.6.3\n",
      "jupyter-console           6.6.3\n",
      "jupyter_core              5.8.1\n",
      "jupyter-events            0.12.0\n",
      "jupyter-lsp               2.2.5\n",
      "jupyter_server            2.16.0\n",
      "jupyter_server_terminals  0.5.3\n",
      "jupyterlab                4.4.3\n",
      "jupyterlab_pygments       0.3.0\n",
      "jupyterlab_server         2.27.3\n",
      "jupyterlab_widgets        3.0.15\n",
      "kiwisolver                1.4.8\n",
      "langcodes                 3.5.0\n",
      "language_data             1.3.0\n",
      "loguru                    0.7.3\n",
      "marisa-trie               1.2.1\n",
      "markdown-it-py            3.0.0\n",
      "MarkupSafe                3.0.2\n",
      "matplotlib                3.10.3\n",
      "matplotlib-inline         0.1.7\n",
      "mdurl                     0.1.2\n",
      "mistune                   3.1.3\n",
      "murmurhash                1.0.13\n",
      "nbclient                  0.10.2\n",
      "nbconvert                 7.16.6\n",
      "nbformat                  5.10.4\n",
      "nest-asyncio              1.6.0\n",
      "nltk                      3.9.1\n",
      "notebook                  7.4.3\n",
      "notebook_shim             0.2.4\n",
      "numpy                     2.2.6\n",
      "overrides                 7.7.0\n",
      "packaging                 25.0\n",
      "pandas                    2.2.3\n",
      "pandocfilters             1.5.1\n",
      "parso                     0.8.4\n",
      "pillow                    11.2.1\n",
      "pip                       25.1.1\n",
      "platformdirs              4.3.8\n",
      "preshed                   3.0.10\n",
      "prometheus_client         0.22.1\n",
      "prompt_toolkit            3.0.51\n",
      "psutil                    7.0.0\n",
      "pure_eval                 0.2.3\n",
      "pycparser                 2.22\n",
      "pydantic                  2.11.7\n",
      "pydantic_core             2.33.2\n",
      "Pygments                  2.19.1\n",
      "pyparsing                 3.2.3\n",
      "pypiwin32                 223\n",
      "python-dateutil           2.9.0.post0\n",
      "python-json-logger        3.3.0\n",
      "pyttsx3                   2.98\n",
      "pytz                      2025.2\n",
      "pywin32                   310\n",
      "pywinpty                  2.0.15\n",
      "PyYAML                    6.0.2\n",
      "pyzmq                     26.4.0\n",
      "referencing               0.36.2\n",
      "regex                     2024.11.6\n",
      "requests                  2.32.3\n",
      "rfc3339-validator         0.1.4\n",
      "rfc3986-validator         0.1.1\n",
      "rich                      14.1.0\n",
      "rpds-py                   0.25.1\n",
      "seaborn                   0.13.2\n",
      "Send2Trash                1.8.3\n",
      "setuptools                80.9.0\n",
      "shellingham               1.5.4\n",
      "six                       1.17.0\n",
      "smart_open                7.3.0.post1\n",
      "sniffio                   1.3.1\n",
      "soupsieve                 2.7\n",
      "spacy                     3.8.7\n",
      "spacy-legacy              3.0.12\n",
      "spacy-loggers             1.0.5\n",
      "spacytextblob             5.0.0\n",
      "srsly                     2.5.1\n",
      "stack-data                0.6.3\n",
      "terminado                 0.18.1\n",
      "textblob                  0.19.0\n",
      "thinc                     8.3.6\n",
      "tinycss2                  1.4.0\n",
      "tornado                   6.5.1\n",
      "tqdm                      4.67.1\n",
      "traitlets                 5.14.3\n",
      "typer                     0.16.0\n",
      "types-python-dateutil     2.9.0.20250516\n",
      "typing_extensions         4.14.0\n",
      "typing-inspection         0.4.1\n",
      "tzdata                    2025.2\n",
      "uri-template              1.3.0\n",
      "urllib3                   2.4.0\n",
      "wasabi                    1.1.3\n",
      "wcwidth                   0.2.13\n",
      "weasel                    0.4.1\n",
      "webcolors                 24.11.1\n",
      "webencodings              0.5.1\n",
      "websocket-client          1.8.0\n",
      "wheel                     0.45.1\n",
      "widgetsnbextension        4.0.14\n",
      "win32_setctime            1.2.0\n",
      "wrapt                     1.17.2\n",
      "All prereqs installed.\n"
     ]
    }
   ],
   "source": [
    "# Create and activate a Python virtual environment. \n",
    "# Before starting the project, try all these imports FIRST\n",
    "# Address any errors you get running this code cell \n",
    "# by installing the necessary packages into your active Python environment.\n",
    "# Try to resolve issues using your materials and the web.\n",
    "# If that doesn't work, ask for help in the discussion forums.\n",
    "# You can't complete the exercises until you import these - start early! \n",
    "# We also import pickle and Counter (included in the Python Standard Library).\n",
    "%pip install spacy\n",
    "\n",
    "%pip install spacytextblob\n",
    "\n",
    "from collections import Counter\n",
    "import pickle\n",
    "import requests\n",
    "import spacy\n",
    "from bs4 import BeautifulSoup\n",
    "import matplotlib.pyplot as plt\n",
    "\n",
    "\n",
    "!pip list\n",
    "\n",
    "print('All prereqs installed.')"
   ]
  },
  {
   "cell_type": "code",
   "execution_count": 7,
   "metadata": {},
   "outputs": [
    {
     "name": "stdout",
     "output_type": "stream",
     "text": [
      "200\n",
      "text/html; charset=UTF-8\n"
     ]
    }
   ],
   "source": [
    "import requests\n",
    "\n",
    "response = requests.get('https://en.wikipedia.org/wiki/Data_mining')\n",
    "\n",
    "print(response.status_code)\n",
    "print(response.headers['content-type'])\n",
    "# Uncomment next line to print the full HTML text;  it's long so when done, recomment\n",
    "# print(response.text)\n"
   ]
  },
  {
   "cell_type": "markdown",
   "metadata": {},
   "source": [
    "Hooray... raw HTML.  This will clearly be a good day.  Let's... find a way to **not** deal with raw html encoded text:"
   ]
  },
  {
   "cell_type": "code",
   "execution_count": 8,
   "metadata": {},
   "outputs": [],
   "source": [
    "from bs4 import BeautifulSoup\n",
    "\n",
    "# parser = 'html5lib'\n",
    "parser = 'html.parser'\n",
    "\n",
    "soup = BeautifulSoup(response.text, parser)\n",
    "# Uncomment next lines to explore full page contents; it's long so when done, recomment\n",
    "# print(soup)\n",
    "# print(soup.prettify())\n"
   ]
  },
  {
   "cell_type": "markdown",
   "metadata": {},
   "source": [
    "From our soup we can extract information by finding tags, searching for ids, and in general treating the parse tree of the HTML as a parse tree.  `BeautifulSoup4` allows us to search for elements of our text"
   ]
  },
  {
   "cell_type": "code",
   "execution_count": 9,
   "metadata": {},
   "outputs": [
    {
     "name": "stdout",
     "output_type": "stream",
     "text": [
      "h1 header: <h1 class=\"firstHeading mw-first-heading\" id=\"firstHeading\"><span class=\"mw-page-title-main\">Data mining</span></h1>\n",
      "h1 text: Data mining\n"
     ]
    },
    {
     "name": "stderr",
     "output_type": "stream",
     "text": [
      "C:\\Users\\jarre\\AppData\\Local\\Temp\\ipykernel_21576\\2791960060.py:1: DeprecationWarning: Call to deprecated method findAll. (Replaced by find_all) -- Deprecated since version 4.0.0.\n",
      "  for header in soup.findAll('h1'):\n"
     ]
    }
   ],
   "source": [
    "for header in soup.findAll('h1'):\n",
    "    print('h1 header:', header)\n",
    "    print('h1 text:', header.text)"
   ]
  },
  {
   "cell_type": "markdown",
   "metadata": {},
   "source": [
    "## Getting some workable material\n",
    "\n",
    "Let's start with an article and find learn some information about it.  Our first step should be to obtain our web page."
   ]
  },
  {
   "cell_type": "code",
   "execution_count": 10,
   "metadata": {},
   "outputs": [],
   "source": [
    "article_page = requests.get('http://web.archive.org/web/20210415020310/https://hackaday.com/2021/04/02/python-will-soon-support-switch-statements/')\n",
    "article_html = article_page.text\n",
    "\n",
    "# pickle works similar to json, but stores information in a binary format\n",
    "# json files are readable by humans, pickle files, not so much\n",
    "\n",
    "# BeautifulSoup objects don't pickle well, so it's appropriate and polite to web developers to cache the text of the web page, or just dump it to an html file you can read in later as a regular file\n",
    "import pickle\n",
    "with open('python-match.pkl', 'wb') as f:\n",
    "    pickle.dump(article_page.text, f)"
   ]
  },
  {
   "cell_type": "code",
   "execution_count": 11,
   "metadata": {},
   "outputs": [],
   "source": [
    "with open('python-match.pkl', 'rb') as f:\n",
    "    article_html = pickle.load(f)"
   ]
  },
  {
   "cell_type": "markdown",
   "metadata": {},
   "source": [
    "Our next step is to make our HTML page searchable/usable.  Parsing HTML by hand would be a waste of time, so let's ask BeautifulSoup to make us some delicious soup.\n",
    "\n",
    "Use either parser - how can you find the pros and cons of 'html5lib' or the built-in 'html.parser'? \n",
    "\n",
    "Where did we set the value of the parser variable used below?"
   ]
  },
  {
   "cell_type": "code",
   "execution_count": 12,
   "metadata": {},
   "outputs": [],
   "source": [
    "soup = BeautifulSoup(article_html, parser)"
   ]
  },
  {
   "cell_type": "markdown",
   "metadata": {},
   "source": [
    "At this point, we want to extract the article text from the page.  Luckily, we have the ability to investigate and inspect individual elements.  By using the inspector we can find that the article is contained in an `article` element; how convenient!  This might not be the case for every page.  One problem with web scraping is that you need to specialize your code for whatever "
   ]
  },
  {
   "cell_type": "code",
   "execution_count": 13,
   "metadata": {},
   "outputs": [],
   "source": [
    "article_element = soup.find('article')\n",
    "# Uncomment to see the entire article element html; again, it's long\n",
    "# print(article_element)"
   ]
  },
  {
   "cell_type": "markdown",
   "metadata": {},
   "source": [
    "If you print the article_content, you see that we get the html contained in the article element; while this is the content we want there's a lot of HTML cruft in there that won't help us (we are interested in text, probably).  Luckily for us, BeautifulSoup allows us to essentially display the text (roughly) as a web browser would display it using the `get_text()` method."
   ]
  },
  {
   "cell_type": "code",
   "execution_count": 14,
   "metadata": {},
   "outputs": [
    {
     "name": "stdout",
     "output_type": "stream",
     "text": [
      "\n",
      "\n",
      "Python Will Soon Support Switch Statements\n",
      "\n",
      "\n",
      "                112 Comments            \n",
      "\n",
      "by:\n",
      "Adam Zeloof\n",
      "\n",
      "\n",
      "\n",
      "April 2, 2021\n",
      "\n",
      "\n",
      "\n",
      "\n",
      "\n",
      "\n",
      "\n",
      "\n",
      "Rejoice! Gone are the long chains of if…else statements, because switch statements will soon be here — sort of. What the Python gods are actually giving us are match statements. match statements are awfully similar to switch statements, but have a few really cool and unique features, which I’ll attempt to illustrate below.\n",
      "\n",
      "Flip The Switch\n",
      "A switch statement is often used in place of an if…else ladder. Here’s a quick example of the same logic in C, first executed with an if statement, and then with a switch statement:\n",
      "\n",
      "Essentially, a switch statement takes a variable and tests it for equality against a number of different cases. If none of the cases match, then the default case is invoked. Notice in the example that each case is terminated by a break. This protects against more than one case matching (or allows for cascading), as the cases are checked in the order in which they are listed. Once a case is completed, break is called and the switch statement exits.\n",
      "A Match Made In Heaven\n",
      "\n",
      "You can think of match statements as “Switch 2.0”. Before we get into the nitty-gritty here, if all you want is switch in Python then you’re in luck, because they can be used in the same way. Here’s a similar example to what we looked at earlier, this time using match in Python.\n",
      "There are a few differences to note right off the bat. First, there are no break statements. The developers were concerned about confusion if a break statement were called inside a match statement inside a loop — what breaks then, the loop or the match? Here, the first case that is satisfied is executed, and the statement returns. You’ll also notice that rather than default, we have case _, which behaves in the same way.\n",
      "The Power of Pattern Matching\n",
      "So, we’ve got a switch statement with slightly different syntax, right? Not quite. The name match was used for a reason — what’s actually going on here is something called Pattern Matching. To illustrate what that is, let’s look at a more exciting example, right out of the feature proposal to add the keyword in question to Python:\n",
      "\n",
      "Wow! We just took an object, checked its type, checked it’s shape, and instantiated a new object without any indexing, or even a len() call. It also works on any type, unlike the classic switch which only works on integral values. In case this wasn’t cool enough for you, patterns can be combined. Again, from the feature proposal:\n",
      "\n",
      "Okay, okay — one more example. This is where the match statement gets really powerful. Patterns themselves can include comparisons, known as guards. This lets you filter values within each case statement:\n",
      "\n",
      "Sold! When Can I Try?\n",
      "We’ll get our hands on this magical new command in Python 3.10, slated for a full release on October 4th, 2021. For the adventurous, an alpha version (Python 3.10.0a6) is available for download today. It might be worth spending some time getting acquainted with the pattern matching, like understanding the difference between matching literal values and matching variables.\n",
      "So why doesn’t every language have match statements? They’re clearly better than switch statements!\n",
      "That’s what I said at least, and my girlfriend Sara was quick to raise her eyebrows and explain that there’s a huge performance overhead involved. The switch statement in C is relatively simple. It compares integers to one another, executing n constant-time operations. All of the power and convenience that comes with the match statement means a lot is going on in the background, which in turn slows down the code execution — an incredibly Pythonic tradeoff to make.\n",
      "I find an efficiency hit a small price to pay for such expanded functionality, but as a Mechanical Engineer my favorite languages are Matlab and Python so you probably should take my opinion here with a grain of salt.\n",
      "\n",
      "\n",
      "\n",
      "\n",
      " \n",
      "\n",
      "\n",
      "\n",
      "\n",
      "\n",
      "\n",
      "\n",
      "\n",
      "\n",
      "\n",
      "\n",
      "\n",
      "\n",
      "\n",
      "\n",
      "\n",
      "\n",
      "\n",
      "\n",
      "Posted in Featured, News, Slider, Software DevelopmentTagged match, python, switch \n",
      "\n"
     ]
    }
   ],
   "source": [
    "print(article_element.get_text())"
   ]
  },
  {
   "cell_type": "markdown",
   "metadata": {},
   "source": [
    "We have raw article text! Let the NLP begin! (also introducing/reintroducing [f strings](https://docs.python.org/3/tutorial/inputoutput.html#tut-f-strings)!"
   ]
  },
  {
   "cell_type": "code",
   "execution_count": 15,
   "metadata": {},
   "outputs": [
    {
     "ename": "OSError",
     "evalue": "[E050] Can't find model 'en_core_web_sm'. It doesn't seem to be a Python package or a valid path to a data directory.",
     "output_type": "error",
     "traceback": [
      "\u001b[31m---------------------------------------------------------------------------\u001b[39m",
      "\u001b[31mOSError\u001b[39m                                   Traceback (most recent call last)",
      "\u001b[36mCell\u001b[39m\u001b[36m \u001b[39m\u001b[32mIn[15]\u001b[39m\u001b[32m, line 4\u001b[39m\n\u001b[32m      1\u001b[39m \u001b[38;5;28;01mimport\u001b[39;00m\u001b[38;5;250m \u001b[39m\u001b[34;01mspacy\u001b[39;00m\n\u001b[32m      2\u001b[39m \u001b[38;5;28;01mfrom\u001b[39;00m\u001b[38;5;250m \u001b[39m\u001b[34;01mspacytextblob\u001b[39;00m\u001b[34;01m.\u001b[39;00m\u001b[34;01mspacytextblob\u001b[39;00m\u001b[38;5;250m \u001b[39m\u001b[38;5;28;01mimport\u001b[39;00m SpacyTextBlob\n\u001b[32m----> \u001b[39m\u001b[32m4\u001b[39m nlp = \u001b[43mspacy\u001b[49m\u001b[43m.\u001b[49m\u001b[43mload\u001b[49m\u001b[43m(\u001b[49m\u001b[33;43m'\u001b[39;49m\u001b[33;43men_core_web_sm\u001b[39;49m\u001b[33;43m'\u001b[39;49m\u001b[43m)\u001b[49m\n\u001b[32m      5\u001b[39m \u001b[38;5;66;03m# why not, let's add some fun sentiment analysis, because we can\u001b[39;00m\n\u001b[32m      6\u001b[39m nlp.add_pipe(\u001b[33m'\u001b[39m\u001b[33mspacytextblob\u001b[39m\u001b[33m'\u001b[39m)\n",
      "\u001b[36mFile \u001b[39m\u001b[32mc:\\Users\\jarre\\AppData\\Local\\Programs\\Python\\Python313\\Lib\\site-packages\\spacy\\__init__.py:52\u001b[39m, in \u001b[36mload\u001b[39m\u001b[34m(name, vocab, disable, enable, exclude, config)\u001b[39m\n\u001b[32m     28\u001b[39m \u001b[38;5;28;01mdef\u001b[39;00m\u001b[38;5;250m \u001b[39m\u001b[34mload\u001b[39m(\n\u001b[32m     29\u001b[39m     name: Union[\u001b[38;5;28mstr\u001b[39m, Path],\n\u001b[32m     30\u001b[39m     *,\n\u001b[32m   (...)\u001b[39m\u001b[32m     35\u001b[39m     config: Union[Dict[\u001b[38;5;28mstr\u001b[39m, Any], Config] = util.SimpleFrozenDict(),\n\u001b[32m     36\u001b[39m ) -> Language:\n\u001b[32m     37\u001b[39m \u001b[38;5;250m    \u001b[39m\u001b[33;03m\"\"\"Load a spaCy model from an installed package or a local path.\u001b[39;00m\n\u001b[32m     38\u001b[39m \n\u001b[32m     39\u001b[39m \u001b[33;03m    name (str): Package name or model path.\u001b[39;00m\n\u001b[32m   (...)\u001b[39m\u001b[32m     50\u001b[39m \u001b[33;03m    RETURNS (Language): The loaded nlp object.\u001b[39;00m\n\u001b[32m     51\u001b[39m \u001b[33;03m    \"\"\"\u001b[39;00m\n\u001b[32m---> \u001b[39m\u001b[32m52\u001b[39m     \u001b[38;5;28;01mreturn\u001b[39;00m \u001b[43mutil\u001b[49m\u001b[43m.\u001b[49m\u001b[43mload_model\u001b[49m\u001b[43m(\u001b[49m\n\u001b[32m     53\u001b[39m \u001b[43m        \u001b[49m\u001b[43mname\u001b[49m\u001b[43m,\u001b[49m\n\u001b[32m     54\u001b[39m \u001b[43m        \u001b[49m\u001b[43mvocab\u001b[49m\u001b[43m=\u001b[49m\u001b[43mvocab\u001b[49m\u001b[43m,\u001b[49m\n\u001b[32m     55\u001b[39m \u001b[43m        \u001b[49m\u001b[43mdisable\u001b[49m\u001b[43m=\u001b[49m\u001b[43mdisable\u001b[49m\u001b[43m,\u001b[49m\n\u001b[32m     56\u001b[39m \u001b[43m        \u001b[49m\u001b[43menable\u001b[49m\u001b[43m=\u001b[49m\u001b[43menable\u001b[49m\u001b[43m,\u001b[49m\n\u001b[32m     57\u001b[39m \u001b[43m        \u001b[49m\u001b[43mexclude\u001b[49m\u001b[43m=\u001b[49m\u001b[43mexclude\u001b[49m\u001b[43m,\u001b[49m\n\u001b[32m     58\u001b[39m \u001b[43m        \u001b[49m\u001b[43mconfig\u001b[49m\u001b[43m=\u001b[49m\u001b[43mconfig\u001b[49m\u001b[43m,\u001b[49m\n\u001b[32m     59\u001b[39m \u001b[43m    \u001b[49m\u001b[43m)\u001b[49m\n",
      "\u001b[36mFile \u001b[39m\u001b[32mc:\\Users\\jarre\\AppData\\Local\\Programs\\Python\\Python313\\Lib\\site-packages\\spacy\\util.py:484\u001b[39m, in \u001b[36mload_model\u001b[39m\u001b[34m(name, vocab, disable, enable, exclude, config)\u001b[39m\n\u001b[32m    482\u001b[39m \u001b[38;5;28;01mif\u001b[39;00m name \u001b[38;5;129;01min\u001b[39;00m OLD_MODEL_SHORTCUTS:\n\u001b[32m    483\u001b[39m     \u001b[38;5;28;01mraise\u001b[39;00m \u001b[38;5;167;01mIOError\u001b[39;00m(Errors.E941.format(name=name, full=OLD_MODEL_SHORTCUTS[name]))  \u001b[38;5;66;03m# type: ignore[index]\u001b[39;00m\n\u001b[32m--> \u001b[39m\u001b[32m484\u001b[39m \u001b[38;5;28;01mraise\u001b[39;00m \u001b[38;5;167;01mIOError\u001b[39;00m(Errors.E050.format(name=name))\n",
      "\u001b[31mOSError\u001b[39m: [E050] Can't find model 'en_core_web_sm'. It doesn't seem to be a Python package or a valid path to a data directory."
     ]
    }
   ],
   "source": [
    "import spacy\n",
    "from spacytextblob.spacytextblob import SpacyTextBlob\n",
    "\n",
    "nlp = spacy.load('en_core_web_sm')\n",
    "# why not, let's add some fun sentiment analysis, because we can\n",
    "nlp.add_pipe('spacytextblob')\n",
    "doc = nlp(article_element.get_text())\n",
    "print(f'Polarity: {doc._.polarity}')"
   ]
  },
  {
   "cell_type": "markdown",
   "metadata": {},
   "source": [
    "So does the article have an overall positive overtone? What polarity scores indicate positive tone? What scores indicate negative? Is -0.5 more negative than -0.2?\n",
    "\n",
    "I'm actually pretty excited about match statements in Python, but I'm a nerd, so... you know.  What else can we do?\n",
    "\n",
    "## NLP: Finding important terms and introducing \"stopwords\"\n",
    "\n",
    "Our `doc` object contains information about every single lexeme in the text we had it parse.  Let's look at what these are:"
   ]
  },
  {
   "cell_type": "code",
   "execution_count": null,
   "metadata": {},
   "outputs": [
    {
     "name": "stdout",
     "output_type": "stream",
     "text": [
      "--- \n",
      "\n",
      "\n",
      "--- Python\n",
      "--- Will\n",
      "--- Soon\n",
      "--- Support\n",
      "--- Switch\n",
      "--- Statements\n",
      "--- \n",
      "\n",
      "\n",
      "                \n",
      "--- 112\n",
      "--- Comments\n"
     ]
    }
   ],
   "source": [
    "for lexeme in doc[:10]: # just the first 10 for now\n",
    "    print('---',lexeme)"
   ]
  },
  {
   "cell_type": "markdown",
   "metadata": {},
   "source": [
    "We can see that the large blocks of whitespace are considered tokens; that's not something we particularly care about.  Let's start by going through our document and only getting tokens that aren't whitespace (I'll do this one as a loop constructing the list).  Notice; each lexeme in the document has a flag for whether it is whitespace or not!"
   ]
  },
  {
   "cell_type": "code",
   "execution_count": null,
   "metadata": {},
   "outputs": [
    {
     "name": "stdout",
     "output_type": "stream",
     "text": [
      "[Python, Will, Soon, Support, Switch, Statements, 112, Comments, by, :, Adam, Zeloof, April, 2, ,, 2021, Rejoice, !, Gone, are, the, long, chains, of, if, …, else, statements, ,, because, switch, statements, will, soon, be, here, —, sort, of, ., What, the, Python, gods, are, actually, giving, us, are, match, statements, ., match, statements, are, awfully, similar, to, switch, statements, ,, but, have, a, few, really, cool, and, unique, features, ,, which, I, ’ll, attempt, to, illustrate, below, ., Flip, The, Switch, A, switch, statement, is, often, used, in, place, of, an, if, …, else, ladder, ., Here, ’s, a, quick, example, of, the, same, logic, in, C, ,, first, executed, with, an, if, statement, ,, and, then, with, a, switch, statement, :, Essentially, ,, a, switch, statement, takes, a, variable, and, tests, it, for, equality, against, a, number, of, different, cases, ., If, none, of, the, cases, match, ,, then, the, default, case, is, invoked, ., Notice, in, the, example, that, each, case, is, terminated, by, a, break, ., This, protects, against, more, than, one, case, matching, (, or, allows, for, cascading, ), ,, as, the, cases, are, checked, in, the, order, in, which, they, are, listed, ., Once, a, case, is, completed, ,, break, is, called, and, the, switch, statement, exits, ., A, Match, Made, In, Heaven, You, can, think, of, match, statements, as, “, Switch, 2.0, ”, ., Before, we, get, into, the, nitty, -, gritty, here, ,, if, all, you, want, is, switch, in, Python, then, you, ’re, in, luck, ,, because, they, can, be, used, in, the, same, way, ., Here, ’s, a, similar, example, to, what, we, looked, at, earlier, ,, this, time, using, match, in, Python, ., There, are, a, few, differences, to, note, right, off, the, bat, ., First, ,, there, are, no, break, statements, ., The, developers, were, concerned, about, confusion, if, a, break, statement, were, called, inside, a, match, statement, inside, a, loop, —, what, breaks, then, ,, the, loop, or, the, match, ?, Here, ,, the, first, case, that, is, satisfied, is, executed, ,, and, the, statement, returns, ., You, ’ll, also, notice, that, rather, than, default, ,, we, have, case, _, ,, which, behaves, in, the, same, way, ., The, Power, of, Pattern, Matching, So, ,, we, ’ve, got, a, switch, statement, with, slightly, different, syntax, ,, right, ?, Not, quite, ., The, name, match, was, used, for, a, reason, —, what, ’s, actually, going, on, here, is, something, called, Pattern, Matching, ., To, illustrate, what, that, is, ,, let, ’s, look, at, a, more, exciting, example, ,, right, out, of, the, feature, proposal, to, add, the, keyword, in, question, to, Python, :, Wow, !, We, just, took, an, object, ,, checked, its, type, ,, checked, it, ’s, shape, ,, and, instantiated, a, new, object, without, any, indexing, ,, or, even, a, len, (, ), call, ., It, also, works, on, any, type, ,, unlike, the, classic, switch, which, only, works, on, integral, values, ., In, case, this, was, n’t, cool, enough, for, you, ,, patterns, can, be, combined, ., Again, ,, from, the, feature, proposal, :, Okay, ,, okay, —, one, more, example, ., This, is, where, the, match, statement, gets, really, powerful, ., Patterns, themselves, can, include, comparisons, ,, known, as, guards, ., This, lets, you, filter, values, within, each, case, statement, :, Sold, !, When, Can, I, Try, ?, We, ’ll, get, our, hands, on, this, magical, new, command, in, Python, 3.10, ,, slated, for, a, full, release, on, October, 4th, ,, 2021, ., For, the, adventurous, ,, an, alpha, version, (, Python, 3.10.0a6, ), is, available, for, download, today, ., It, might, be, worth, spending, some, time, getting, acquainted, with, the, pattern, matching, ,, like, understanding, the, difference, between, matching, literal, values, and, matching, variables, ., So, why, does, n’t, every, language, have, match, statements, ?, They, ’re, clearly, better, than, switch, statements, !, That, ’s, what, I, said, at, least, ,, and, my, girlfriend, Sara, was, quick, to, raise, her, eyebrows, and, explain, that, there, ’s, a, huge, performance, overhead, involved, ., The, switch, statement, in, C, is, relatively, simple, ., It, compares, integers, to, one, another, ,, executing, n, constant, -, time, operations, ., All, of, the, power, and, convenience, that, comes, with, the, match, statement, means, a, lot, is, going, on, in, the, background, ,, which, in, turn, slows, down, the, code, execution, —, an, incredibly, Pythonic, tradeoff, to, make, ., I, find, an, efficiency, hit, a, small, price, to, pay, for, such, expanded, functionality, ,, but, as, a, Mechanical, Engineer, my, favorite, languages, are, Matlab, and, Python, so, you, probably, should, take, my, opinion, here, with, a, grain, of, salt, ., Posted, in, Featured, ,, News, ,, Slider, ,, Software, DevelopmentTagged, match, ,, python, ,, switch]\n"
     ]
    }
   ],
   "source": [
    "non_ws_tokens = []\n",
    "for token in doc:\n",
    "    if not token.is_space:\n",
    "        non_ws_tokens.append(token)\n",
    "print(non_ws_tokens)"
   ]
  },
  {
   "cell_type": "markdown",
   "metadata": {},
   "source": [
    "It appears that punctuation is also its own token, so let's get rid of it.  At this point it starts to make sense to define a function to determine if we care about a particular token.  Let's build our list with a comprehension this time."
   ]
  },
  {
   "cell_type": "code",
   "execution_count": null,
   "metadata": {},
   "outputs": [
    {
     "name": "stdout",
     "output_type": "stream",
     "text": [
      "[Python, Will, Soon, Support, Switch, Statements, 112, Comments, by, Adam, Zeloof, April, 2, 2021, Rejoice, Gone, are, the, long, chains, of, if, else, statements, because, switch, statements, will, soon, be, here, sort, of, What, the, Python, gods, are, actually, giving, us, are, match, statements, match, statements, are, awfully, similar, to, switch, statements, but, have, a, few, really, cool, and, unique, features, which, I, ’ll, attempt, to, illustrate, below, Flip, The, Switch, A, switch, statement, is, often, used, in, place, of, an, if, else, ladder, Here, ’s, a, quick, example, of, the, same, logic, in, C, first, executed, with, an, if, statement, and, then, with, a, switch, statement, Essentially, a, switch, statement, takes, a, variable, and, tests, it, for, equality, against, a, number, of, different, cases, If, none, of, the, cases, match, then, the, default, case, is, invoked, Notice, in, the, example, that, each, case, is, terminated, by, a, break, This, protects, against, more, than, one, case, matching, or, allows, for, cascading, as, the, cases, are, checked, in, the, order, in, which, they, are, listed, Once, a, case, is, completed, break, is, called, and, the, switch, statement, exits, A, Match, Made, In, Heaven, You, can, think, of, match, statements, as, Switch, 2.0, Before, we, get, into, the, nitty, gritty, here, if, all, you, want, is, switch, in, Python, then, you, ’re, in, luck, because, they, can, be, used, in, the, same, way, Here, ’s, a, similar, example, to, what, we, looked, at, earlier, this, time, using, match, in, Python, There, are, a, few, differences, to, note, right, off, the, bat, First, there, are, no, break, statements, The, developers, were, concerned, about, confusion, if, a, break, statement, were, called, inside, a, match, statement, inside, a, loop, what, breaks, then, the, loop, or, the, match, Here, the, first, case, that, is, satisfied, is, executed, and, the, statement, returns, You, ’ll, also, notice, that, rather, than, default, we, have, case, which, behaves, in, the, same, way, The, Power, of, Pattern, Matching, So, we, ’ve, got, a, switch, statement, with, slightly, different, syntax, right, Not, quite, The, name, match, was, used, for, a, reason, what, ’s, actually, going, on, here, is, something, called, Pattern, Matching, To, illustrate, what, that, is, let, ’s, look, at, a, more, exciting, example, right, out, of, the, feature, proposal, to, add, the, keyword, in, question, to, Python, Wow, We, just, took, an, object, checked, its, type, checked, it, ’s, shape, and, instantiated, a, new, object, without, any, indexing, or, even, a, len, call, It, also, works, on, any, type, unlike, the, classic, switch, which, only, works, on, integral, values, In, case, this, was, n’t, cool, enough, for, you, patterns, can, be, combined, Again, from, the, feature, proposal, Okay, okay, one, more, example, This, is, where, the, match, statement, gets, really, powerful, Patterns, themselves, can, include, comparisons, known, as, guards, This, lets, you, filter, values, within, each, case, statement, Sold, When, Can, I, Try, We, ’ll, get, our, hands, on, this, magical, new, command, in, Python, 3.10, slated, for, a, full, release, on, October, 4th, 2021, For, the, adventurous, an, alpha, version, Python, 3.10.0a6, is, available, for, download, today, It, might, be, worth, spending, some, time, getting, acquainted, with, the, pattern, matching, like, understanding, the, difference, between, matching, literal, values, and, matching, variables, So, why, does, n’t, every, language, have, match, statements, They, ’re, clearly, better, than, switch, statements, That, ’s, what, I, said, at, least, and, my, girlfriend, Sara, was, quick, to, raise, her, eyebrows, and, explain, that, there, ’s, a, huge, performance, overhead, involved, The, switch, statement, in, C, is, relatively, simple, It, compares, integers, to, one, another, executing, n, constant, time, operations, All, of, the, power, and, convenience, that, comes, with, the, match, statement, means, a, lot, is, going, on, in, the, background, which, in, turn, slows, down, the, code, execution, an, incredibly, Pythonic, tradeoff, to, make, I, find, an, efficiency, hit, a, small, price, to, pay, for, such, expanded, functionality, but, as, a, Mechanical, Engineer, my, favorite, languages, are, Matlab, and, Python, so, you, probably, should, take, my, opinion, here, with, a, grain, of, salt, Posted, in, Featured, News, Slider, Software, DevelopmentTagged, match, python, switch]\n"
     ]
    }
   ],
   "source": [
    "def we_care_about(token):\n",
    "    return not (token.is_space or token.is_punct)\n",
    "\n",
    "interesting_tokens = [token for token in doc if we_care_about(token)]\n",
    "print(interesting_tokens)"
   ]
  },
  {
   "cell_type": "markdown",
   "metadata": {},
   "source": [
    "Let's determine the most frequent terms; that's an interesting way to determine the most important parts of a body of text.  Note the use of the Counter collection data structure; it's essentially a superpowered dictionary.  Note that because tokens have context, they won't be the same objects (everything will have a frequency of 1) so we turn all of them into strings using the `map` function."
   ]
  },
  {
   "cell_type": "code",
   "execution_count": null,
   "metadata": {},
   "outputs": [
    {
     "name": "stdout",
     "output_type": "stream",
     "text": [
      "[('the', 29), ('a', 24), ('in', 16), ('is', 14), ('statement', 13), ('switch', 12), ('match', 12), ('of', 11), ('and', 11), ('to', 10)]\n"
     ]
    }
   ],
   "source": [
    "from collections import Counter\n",
    "word_freq = Counter(map(str,interesting_tokens))\n",
    "print(word_freq.most_common(10))"
   ]
  },
  {
   "cell_type": "markdown",
   "metadata": {},
   "source": [
    "Hrm; most of the top 10 most common words are not particularly interesting.  The words \"the\", \"a\", etc. do little to add to the meaning of a sentence but they do help with human comprehension.  We call such words \"stopwords\".  Let's modify our code so we exclude stopwords in our count."
   ]
  },
  {
   "cell_type": "code",
   "execution_count": null,
   "metadata": {},
   "outputs": [
    {
     "name": "stdout",
     "output_type": "stream",
     "text": [
      "[('statement', 13), ('switch', 12), ('match', 12), ('statements', 9), ('Python', 8), ('case', 8), ('example', 5), ('break', 4), ('matching', 4), ('Switch', 3)]\n"
     ]
    }
   ],
   "source": [
    "def we_care_about(token):\n",
    "    return not (token.is_space or token.is_punct or token.is_stop)\n",
    "\n",
    "interesting_tokens = [token for token in doc if we_care_about(token)]\n",
    "word_freq = Counter(map(str,interesting_tokens))\n",
    "print(word_freq.most_common(10))"
   ]
  },
  {
   "cell_type": "markdown",
   "metadata": {},
   "source": [
    "Now, we suddenly see that the most common terms in an article about Python supporting switch statements now contains the terms \"statement\", \"statements\", \"Python\", \"Switch\", and \"match\".  You might notice that there are a few issues with this.\n",
    "\n",
    "* \"Switch\" and \"switch\" are both included; we could fix this by converting every string to lower\n",
    "* \"statement\" and \"statements\", as well as \"match\" and \"matching\" are counted as different terms, even though they have the same base.\n",
    "\n",
    "The second problem is harder to solve, or it would be if we weren't using such a powerful library. As you learned in your initial exploration of spaCy, part of the pipeline is Lemmatization.  This is the process of finding the base form of each word.  Let's see what happens when we use the base form of each word instead of the token itself:"
   ]
  },
  {
   "cell_type": "code",
   "execution_count": null,
   "metadata": {},
   "outputs": [
    {
     "name": "stdout",
     "output_type": "stream",
     "text": [
      "[('statement', 22), ('match', 14), ('switch', 13), ('case', 11), ('Python', 8), ('example', 5), ('break', 5), ('go', 3), ('feature', 3), ('execute', 3)]\n"
     ]
    }
   ],
   "source": [
    "interesting_lemmas = [token.lemma_ for token in doc if we_care_about(token)]\n",
    "lemma_freq = Counter(interesting_lemmas)\n",
    "print(lemma_freq.most_common(10))"
   ]
  },
  {
   "cell_type": "markdown",
   "metadata": {},
   "source": [
    "We still run into case sensitivity, but we can fix that by converting the string to lower case:"
   ]
  },
  {
   "cell_type": "code",
   "execution_count": null,
   "metadata": {},
   "outputs": [
    {
     "name": "stdout",
     "output_type": "stream",
     "text": [
      "[('statement', 22), ('switch', 15), ('match', 14), ('case', 11), ('python', 9), ('example', 5), ('break', 5), ('matching', 5), ('pattern', 5), ('go', 3)]\n"
     ]
    }
   ],
   "source": [
    "interesting_lemmas = [token.lemma_.lower() for token in doc if we_care_about(token)]\n",
    "lemma_freq = Counter(interesting_lemmas)\n",
    "print(lemma_freq.most_common(10))"
   ]
  },
  {
   "cell_type": "markdown",
   "metadata": {},
   "source": [
    "Cool!  Let's store the 5 most common words in a set and try some experiments"
   ]
  },
  {
   "cell_type": "code",
   "execution_count": null,
   "metadata": {},
   "outputs": [
    {
     "name": "stdout",
     "output_type": "stream",
     "text": [
      "{'switch', 'python', 'statement', 'case', 'match'}\n"
     ]
    }
   ],
   "source": [
    "cool_words = set()\n",
    "for lemma, freq in lemma_freq.most_common(5):\n",
    "    cool_words.add(lemma)\n",
    "print(cool_words)"
   ]
  },
  {
   "cell_type": "markdown",
   "metadata": {},
   "source": [
    "As an experiment, let's see how many words in each sentence are important (or \"cool\" as I've named the set)"
   ]
  },
  {
   "cell_type": "code",
   "execution_count": null,
   "metadata": {},
   "outputs": [
    {
     "name": "stdout",
     "output_type": "stream",
     "text": [
      "2 : Python Will Soon Support Switch Statements        112 Comments      by:Adam ZeloofApril 2, 2021Rejoice!\n",
      "3 : Gone are the long chains of if…else statements, because switch statements will soon be here — sort of.\n",
      "3 : What the Python gods are actually giving us are match statements.\n",
      "4 : match statements are awfully similar to switch statements, but have a few really cool and unique features, which I’ll attempt to illustrate below.\n",
      "3 : Flip The SwitchA switch statement is often used in place of an if…else ladder.\n",
      "6 : Here’s a quick example of the same logic in C, first executed with an if statement, and then with a switch statement:Essentially, a switch statement takes a variable and tests it for equality against a number of different cases.\n",
      "3 : If none of the cases match, then the default case is invoked.\n",
      "1 : Notice in the example that each case is terminated by a break.\n",
      "2 : This protects against more than one case matching (or allows for cascading), as the cases are checked in the order in which they are listed.\n",
      "3 : Once a case is completed, break is called and the switch statement exits.\n",
      "4 : A Match Made In HeavenYou can think of match statements as “Switch 2.0”.\n",
      "2 : Before we get into the nitty-gritty here, if all you want is switch in Python then you’re in luck, because they can be used in the same way.\n",
      "2 : Here’s a similar example to what we looked at earlier, this time using match in Python.There are a few differences to note right off the bat.\n",
      "1 : First, there are no break statements.\n",
      "4 : The developers were concerned about confusion if a break statement were called inside a match statement inside a loop — what breaks then, the loop or the match?\n",
      "2 : Here, the first case that is satisfied is executed, and the statement returns.\n",
      "1 : You’ll also notice that rather than default, we have case _, which behaves in the same way.\n",
      "2 : The Power of Pattern MatchingSo, we’ve got a switch statement with slightly different syntax, right?\n",
      "0 : Not quite.\n",
      "1 : The name match was used for a reason — what’s actually going on here is something called Pattern Matching.\n",
      "1 : To illustrate what that is, let’s look at a more exciting example, right out of the feature proposal to add the keyword in question to Python:Wow!\n",
      "0 : We just took an object, checked its type, checked it’s shape, and instantiated a new object without any indexing, or even a len() call.\n",
      "1 : It also works on any type, unlike the classic switch which only works on integral values.\n",
      "1 : In case this wasn’t cool enough for you, patterns can be combined.\n",
      "0 : Again, from the feature proposal:Okay, okay — one more example.\n",
      "2 : This is where the match statement gets really powerful.\n",
      "0 : Patterns themselves can include comparisons, known as guards.\n",
      "2 : This lets you filter values within each case statement:Sold!\n",
      "0 : When Can I Try?\n",
      "1 : We’ll get our hands on this magical new command in Python 3.10, slated for a full release on October 4th, 2021.\n",
      "1 : For the adventurous, an alpha version (Python 3.10.0a6) is available for download today.\n",
      "1 : It might be worth spending some time getting acquainted with the pattern matching, like understanding the difference between matching literal values and matching variables.\n",
      "2 : So why doesn’t every language have match statements?\n",
      "2 : They’re clearly better than switch statements!\n",
      "0 : That’s what I said at least, and my girlfriend Sara was quick to raise her eyebrows and explain that there’s a huge performance overhead involved.\n",
      "2 : The switch statement in C is relatively simple.\n",
      "0 : It compares integers to one another, executing n constant-time operations.\n",
      "2 : All of the power and convenience that comes with the match statement means a lot is going on in the background, which in turn slows down the code execution — an incredibly Pythonic tradeoff to make.\n",
      "1 : I find an efficiency hit a small price to pay for such expanded functionality, but as a Mechanical Engineer my favorite languages are Matlab and Python so you probably should take my opinion here with a grain of salt.\n",
      "3 :  Posted in Featured, News, Slider, Software DevelopmentTagged match, python, switch \n"
     ]
    }
   ],
   "source": [
    "sentences = list(doc.sents) # Thanks spaCy for just giving us our sentences\n",
    "for sentence in sentences:\n",
    "    count = 0\n",
    "    for token in sentence:\n",
    "        if token.lemma_.lower() in cool_words:\n",
    "            count += 1\n",
    "    # because there's a bunch of junk newlines, we'll replace those with nothing, as well as a little bit of whitespace\n",
    "    sent_str = str(sentence).replace('\\n','').replace('  ',' ')\n",
    "    print(count,':', sent_str)"
   ]
  },
  {
   "cell_type": "markdown",
   "metadata": {},
   "source": [
    "### Bonus: How many words in a sentence?\n",
    "\n",
    "When counting words, it's probably best to avoid whitespace or punctuation"
   ]
  },
  {
   "cell_type": "code",
   "execution_count": null,
   "metadata": {},
   "outputs": [
    {
     "name": "stdout",
     "output_type": "stream",
     "text": [
      "15 \n",
      "\n",
      "Python Will Soon Support Switch Statements\n",
      "\n",
      "\n",
      "                112 Comments            \n",
      "\n",
      "by:\n",
      "Adam Zeloof\n",
      "\n",
      "\n",
      "\n",
      "April 2, 2021\n",
      "\n",
      "\n",
      "\n",
      "\n",
      "\n",
      "\n",
      "\n",
      "\n",
      "Rejoice!\n"
     ]
    }
   ],
   "source": [
    "def sentence_length (sent):\n",
    "    count = 0\n",
    "    for token in sent:\n",
    "        if not(token.is_space or token.is_punct):\n",
    "            count += 1\n",
    "    return count\n",
    "print(sentence_length(sentences[0]), sentences[0])"
   ]
  }
 ],
 "metadata": {
  "kernelspec": {
   "display_name": "Python 3",
   "language": "python",
   "name": "python3"
  },
  "language_info": {
   "codemirror_mode": {
    "name": "ipython",
    "version": 3
   },
   "file_extension": ".py",
   "mimetype": "text/x-python",
   "name": "python",
   "nbconvert_exporter": "python",
   "pygments_lexer": "ipython3",
   "version": "3.13.3"
  }
 },
 "nbformat": 4,
 "nbformat_minor": 4
}
